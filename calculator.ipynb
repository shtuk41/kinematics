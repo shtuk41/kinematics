{
 "cells": [
  {
   "cell_type": "markdown",
   "id": "9f7a3b75-aad8-43be-927b-3111a88f5e7e",
   "metadata": {},
   "source": [
    "# Local calculator"
   ]
  },
  {
   "cell_type": "code",
   "execution_count": null,
   "id": "6934dd5e-6c0c-47bf-b47e-cfa03f6b9d77",
   "metadata": {},
   "outputs": [],
   "source": [
    "import numpy as np\n",
    "\n",
    "V = np.array([2,2])\n",
    "X = np.array([1,0])\n",
    "\n",
    "V_norm = V / np.linalg.norm(V)\n",
    "\n",
    "cosQ = V_norm.dot(X)\n",
    "Q = np.rad2deg(np.arccos(cosQ))\n",
    "\n",
    "print(Q)"
   ]
  }
 ],
 "metadata": {
  "kernelspec": {
   "display_name": "Python 3 (ipykernel)",
   "language": "python",
   "name": "python3"
  },
  "language_info": {
   "codemirror_mode": {
    "name": "ipython",
    "version": 3
   },
   "file_extension": ".py",
   "mimetype": "text/x-python",
   "name": "python",
   "nbconvert_exporter": "python",
   "pygments_lexer": "ipython3",
   "version": "3.10.12"
  }
 },
 "nbformat": 4,
 "nbformat_minor": 5
}
